{
  "nbformat": 4,
  "nbformat_minor": 0,
  "metadata": {
    "colab": {
      "provenance": []
    },
    "kernelspec": {
      "name": "python3",
      "display_name": "Python 3"
    },
    "language_info": {
      "name": "python"
    }
  },
  "cells": [
    {
      "cell_type": "code",
      "source": [
        "pip install RPi.GPIO"
      ],
      "metadata": {
        "id": "58nTREtAV2mY"
      },
      "execution_count": null,
      "outputs": []
    },
    {
      "cell_type": "code",
      "source": [
        "pip install awsiotsdk"
      ],
      "metadata": {
        "id": "KDtssNifdH6L"
      },
      "execution_count": null,
      "outputs": []
    },
    {
      "cell_type": "code",
      "execution_count": null,
      "metadata": {
        "id": "uWU0l4wlVLGp"
      },
      "outputs": [],
      "source": [
        "import RPi.GPIO as GPIO\n",
        "import time\n",
        "import json\n",
        "from AWSIoTPythonSDK.MQTTLib import AWSIoTMQTTClient\n",
        "\n",
        "GPIO.setmode(GPIO.BCM)\n",
        "GPIO_TRIGGER = 23\n",
        "GPIO_ECHO = 24\n",
        "GPIO.setup(GPIO_TRIGGER, GPIO.OUT)\n",
        "GPIO.setup(GPIO_ECHO, GPIO.IN)\n",
        "\n",
        "client = AWSIoTMQTTClient(\"waste_management_system\")\n",
        "client.configureEndpoint(\"your-aws-iot-endpoint\", 8883)\n",
        "client.configureCredentials(\"path-to-root-ca\", \"path-to-private-key\", \"path-to-certificate\")\n",
        "\n",
        "client.connect()\n",
        "\n",
        "def measure_distance():\n",
        "    GPIO.output(GPIO_TRIGGER, True)\n",
        "    time.sleep(0.00001)\n",
        "    GPIO.output(GPIO_TRIGGER, False)\n",
        "\n",
        "    start_time = time.time()\n",
        "    stop_time = time.time()\n",
        "\n",
        "    while GPIO.input(GPIO_ECHO) == 0:\n",
        "        start_time = time.time()\n",
        "\n",
        "    while GPIO.input(GPIO_ECHO) == 1:\n",
        "        stop_time = time.time()\n",
        "\n",
        "    elapsed_time = stop_time - start_time\n",
        "    distance = (elapsed_time * 34300) / 2\n",
        "\n",
        "    return distance\n",
        "\n",
        "def get_location():\n",
        "    pass\n",
        "\n",
        "while True:\n",
        "    fill_level = measure_distance()\n",
        "    location = get_location()\n",
        "\n",
        "    payload = {\n",
        "        \"fill_level\": fill_level,\n",
        "        \"location\": location\n",
        "    }\n",
        "\n",
        "    client.publish(\"waste_bins\", json.dumps(payload), 1)\n",
        "\n",
        "    time.sleep(10)"
      ]
    }
  ]
}